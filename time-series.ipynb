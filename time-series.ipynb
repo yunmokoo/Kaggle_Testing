{
 "cells": [
  {
   "cell_type": "code",
   "execution_count": 1,
   "id": "a3516e35",
   "metadata": {
    "_cell_guid": "b1076dfc-b9ad-4769-8c92-a6c4dae69d19",
    "_uuid": "8f2839f25d086af736a60e9eeb907d3b93b6e0e5",
    "execution": {
     "iopub.execute_input": "2023-11-18T03:57:28.345726Z",
     "iopub.status.busy": "2023-11-18T03:57:28.344164Z",
     "iopub.status.idle": "2023-11-18T03:57:28.896302Z",
     "shell.execute_reply": "2023-11-18T03:57:28.894149Z"
    },
    "papermill": {
     "duration": 0.560781,
     "end_time": "2023-11-18T03:57:28.899795",
     "exception": false,
     "start_time": "2023-11-18T03:57:28.339014",
     "status": "completed"
    },
    "tags": []
   },
   "outputs": [],
   "source": [
    "# This Python 3 environment comes with many helpful analytics libraries installed\n",
    "# It is defined by the kaggle/python Docker image: https://github.com/kaggle/docker-python\n",
    "# For example, here's several helpful packages to load\n",
    "\n",
    "import numpy as np # linear algebra\n",
    "import pandas as pd # data processing, CSV file I/O (e.g. pd.read_csv)\n",
    "\n",
    "# Input data files are available in the read-only \"../input/\" directory\n",
    "# For example, running this (by clicking run or pressing Shift+Enter) will list all files under the input directory\n",
    "\n",
    "import os\n",
    "for dirname, _, filenames in os.walk('/kaggle/input'):\n",
    "    for filename in filenames:\n",
    "        print(os.path.join(dirname, filename))\n",
    "\n",
    "# You can write up to 20GB to the current directory (/kaggle/working/) that gets preserved as output when you create a version using \"Save & Run All\" \n",
    "# You can also write temporary files to /kaggle/temp/, but they won't be saved outside of the current session"
   ]
  },
  {
   "cell_type": "markdown",
   "id": "5dfc803e",
   "metadata": {
    "papermill": {
     "duration": 0.002057,
     "end_time": "2023-11-18T03:57:28.905008",
     "exception": false,
     "start_time": "2023-11-18T03:57:28.902951",
     "status": "completed"
    },
    "tags": []
   },
   "source": [
    "## To-do\n",
    "\n",
    "### Use Plotly, and refresh on pandas."
   ]
  },
  {
   "cell_type": "code",
   "execution_count": null,
   "id": "ff25059d",
   "metadata": {
    "papermill": {
     "duration": 0.002273,
     "end_time": "2023-11-18T03:57:28.912197",
     "exception": false,
     "start_time": "2023-11-18T03:57:28.909924",
     "status": "completed"
    },
    "tags": []
   },
   "outputs": [],
   "source": []
  }
 ],
 "metadata": {
  "kaggle": {
   "accelerator": "none",
   "dataSources": [],
   "dockerImageVersionId": 30587,
   "isGpuEnabled": false,
   "isInternetEnabled": true,
   "language": "python",
   "sourceType": "notebook"
  },
  "kernelspec": {
   "display_name": "Python 3",
   "language": "python",
   "name": "python3"
  },
  "language_info": {
   "codemirror_mode": {
    "name": "ipython",
    "version": 3
   },
   "file_extension": ".py",
   "mimetype": "text/x-python",
   "name": "python",
   "nbconvert_exporter": "python",
   "pygments_lexer": "ipython3",
   "version": "3.10.12"
  },
  "papermill": {
   "default_parameters": {},
   "duration": 5.089913,
   "end_time": "2023-11-18T03:57:29.538126",
   "environment_variables": {},
   "exception": null,
   "input_path": "__notebook__.ipynb",
   "output_path": "__notebook__.ipynb",
   "parameters": {},
   "start_time": "2023-11-18T03:57:24.448213",
   "version": "2.4.0"
  }
 },
 "nbformat": 4,
 "nbformat_minor": 5
}
